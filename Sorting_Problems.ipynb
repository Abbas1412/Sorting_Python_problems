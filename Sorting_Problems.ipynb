{
 "cells": [
  {
   "cell_type": "code",
   "execution_count": 1,
   "id": "362485bf-036a-4a1c-82ff-ba8822faf649",
   "metadata": {},
   "outputs": [],
   "source": [
    "#**********************************************************************************************************#\n",
    "#****************************************** SORTING PROBLEMS **********************************************#\n",
    "#**********************************************************************************************************#"
   ]
  },
  {
   "cell_type": "code",
   "execution_count": 17,
   "id": "4bf0f337-8ec7-4539-9fc1-4d4a0b2f686e",
   "metadata": {},
   "outputs": [
    {
     "name": "stdout",
     "output_type": "stream",
     "text": [
      "Maximum Occuring element in an array is : 2\n"
     ]
    }
   ],
   "source": [
    "# Problem 1. Given an array of n numbers, give an algorithm which gives the element appearing maximum number of times ?\n",
    "\n",
    "#Code:-\n",
    "\n",
    "def selection_sort(arr):\n",
    "    \n",
    "    for i in range(len(arr)):\n",
    "        minimum = i\n",
    "        \n",
    "        j = i + 1\n",
    "        while(j < len(arr)):\n",
    "            if(arr[minimum] > arr[j]):\n",
    "                minimum = j\n",
    "            j+=1\n",
    "        \n",
    "        arr[i],arr[minimum] = arr[minimum], arr[i]\n",
    "            \n",
    "\n",
    "def max_occ_element(arr):\n",
    "    \n",
    "    # Sorting the array\n",
    "    selection_sort(arr)\n",
    "    \n",
    "    max_count = 0\n",
    "    max_occu_element = 0 \n",
    "    \n",
    "    i = 0\n",
    "    while(i < len(arr)):\n",
    "        count = 0\n",
    "        \n",
    "        j = i\n",
    "        while(j < len(arr) and arr[i] == arr[j]):\n",
    "            count+=1\n",
    "            j += 1\n",
    "        \n",
    "        if(count > max_count):\n",
    "            max_count = count\n",
    "            max_occu_element = arr[i]\n",
    "            \n",
    "        i = j\n",
    "        \n",
    "    return max_occu_element\n",
    "\n",
    "##Driver' Program\n",
    "\n",
    "arr = [1,2,2,3,3,1,2,4,5]\n",
    "\n",
    "selection_sort(arr)\n",
    "\n",
    "print(f\"Maximum Occuring element in an array is :\", max_occ_element(arr))"
   ]
  },
  {
   "cell_type": "code",
   "execution_count": 22,
   "id": "7f23f96f-b001-4f5b-a8a9-b7e9b3ddfa31",
   "metadata": {},
   "outputs": [
    {
     "name": "stdout",
     "output_type": "stream",
     "text": [
      "Missing Element in array is : 5\n"
     ]
    }
   ],
   "source": [
    "''' Problem 2 : We are given a list of n-1 integers and these integers are in the range of 1 to n . There are no\n",
    "duplicates in the list. One of the integers is missing in the list. Give an algorithm to find that element Ex:\n",
    "[1,2,4,6,3,7,8] 5 is the missing num. '''\n",
    "\n",
    "#Code:-\n",
    "\n",
    "def bubble_sort(arr):\n",
    "    \n",
    "    for i in range(len(arr), 0, -1):\n",
    "        \n",
    "        for j in range(i):\n",
    "            \n",
    "            if(j+1 < i and arr[j] > arr[j+1]):\n",
    "                arr[j], arr[j+1] = arr[j+1], arr[j]\n",
    "                \n",
    "    return arr\n",
    "\n",
    "\n",
    "def find_missing_number(arr):\n",
    "    \n",
    "    ## Sorting the array\n",
    "    bubble_sort(arr)\n",
    "    \n",
    "    ## Finding the mis_match\n",
    "    for i in range(len(arr)):\n",
    "        if arr[i] != i + 1:\n",
    "            return i + 1\n",
    "    \n",
    "    return -1\n",
    "\n",
    "## Driver's Program\n",
    "\n",
    "arr = [1,2,4,6,3,7,8]\n",
    "\n",
    "element = find_missing_number(arr)\n",
    "\n",
    "print(f\"Missing Element in array is :\",element)"
   ]
  },
  {
   "cell_type": "code",
   "execution_count": 23,
   "id": "f84e7b23-68bd-403b-ad7c-7fc01bee04b9",
   "metadata": {},
   "outputs": [
    {
     "data": {
      "text/plain": [
       "' Problem 3 : Given an array of n positive numbers. All numbers occurs even number of times except 1 which\\noccurs odd number of times. Find that number in O(n) time and O(1) space. Ex: [1,2,3,2,3,1,3]. 3 is repeats odd\\ntimes. '"
      ]
     },
     "execution_count": 23,
     "metadata": {},
     "output_type": "execute_result"
    }
   ],
   "source": [
    "''' Problem 3 : Given an array of n positive numbers. All numbers occurs even number of times except 1 which\n",
    "occurs odd number of times. Find that number in O(n) time and O(1) space. Ex: [1,2,3,2,3,1,3]. 3 is repeats odd\n",
    "times. '''\n",
    "\n",
    "# Code :-\n",
    "\n",
    "def find_odd_occurrence(arr):\n",
    "    result = 0\n",
    "    for num in arr:\n",
    "        result ^= num\n",
    "    return result\n",
    "\n",
    "# Example\n",
    "arr = [1, 2, 3, 2, 3, 1, 3]\n",
    "result = find_odd_occurrence(arr)\n",
    "print(\"The number occurring odd number of times is:\", result)"
   ]
  },
  {
   "cell_type": "code",
   "execution_count": 10,
   "id": "a6474875-5ab7-4815-b1f5-58273792d3aa",
   "metadata": {},
   "outputs": [
    {
     "name": "stdout",
     "output_type": "stream",
     "text": [
      "(6, 4)\n"
     ]
    }
   ],
   "source": [
    "''' Problem 4 : Given an array of n elements. Find two elements in the array such that their sum is equal to given\n",
    "element K. '''\n",
    "\n",
    "# Code :-\n",
    "\n",
    "def sum_equal_k(arr, k):\n",
    "    \n",
    "    seen_numbers = set()\n",
    "\n",
    "    for num in arr:\n",
    "        \n",
    "        complement = k - num\n",
    "\n",
    "        if complement in seen_numbers:\n",
    "            return num, complement  # Found a pair\n",
    "\n",
    "        seen_numbers.add(num)\n",
    "\n",
    "    return None  # No pair found\n",
    "\n",
    "## Driver's Program\n",
    "\n",
    "arr = [1,4,3,6,8,9,5]\n",
    "k = 10\n",
    "\n",
    "print(sum_equal_k(arr, k))"
   ]
  },
  {
   "cell_type": "code",
   "execution_count": 1,
   "id": "d4ea8417-341c-40c9-b031-7451f292df00",
   "metadata": {},
   "outputs": [
    {
     "name": "stdout",
     "output_type": "stream",
     "text": [
      "(85, -80)\n"
     ]
    }
   ],
   "source": [
    "''' Problem 5 : Given an array of both positive and negative numbers, find two numbers such that their sum is\n",
    "closest to 0. Ex: [ 1 ,60 ,-10, 70, -80,85]. Ans : -80,85. '''\n",
    "\n",
    "## Code:-\n",
    "\n",
    "def insertion_sort(arr):\n",
    "    \n",
    "    for i in range(1, len(arr)):\n",
    "        \n",
    "        key = arr[i]\n",
    "        \n",
    "        j = i - 1\n",
    "        while(j >= 0 and key < arr[j]):\n",
    "            \n",
    "            arr[j + 1] = arr[j]\n",
    "            j -= 1\n",
    "                \n",
    "        arr[j+1] = key\n",
    "        \n",
    "        \n",
    "def sum_closest_zero(arr):\n",
    "    \n",
    "    left = 0\n",
    "    right = len(arr) - 1\n",
    "    \n",
    "    minimum = float('inf')\n",
    "    result = 0\n",
    "    \n",
    "    while(left < right):\n",
    "        \n",
    "        Sum = arr[right] + arr[left]\n",
    "        \n",
    "        if (Sum <= minimum):\n",
    "            minimum = Sum\n",
    "            result = arr[right], arr[left]\n",
    "        \n",
    "        elif Sum < 0:\n",
    "            left += 1\n",
    "        \n",
    "        elif Sum > 0:\n",
    "            right -= 1\n",
    "        \n",
    "        left +=1 \n",
    "        right -=1\n",
    "    \n",
    "    return result\n",
    "            \n",
    "## Driver's Program\n",
    "\n",
    "arr = [1, 60, -10, 70, -80, 85]\n",
    "\n",
    "insertion_sort(arr)\n",
    "\n",
    "result = sum_closest_zero(arr)\n",
    "\n",
    "print(result)"
   ]
  },
  {
   "cell_type": "code",
   "execution_count": 4,
   "id": "1a031b10-b6fe-4f2c-b951-3916eb670ef4",
   "metadata": {},
   "outputs": [
    {
     "data": {
      "text/plain": [
       "(1, 6, 5)"
      ]
     },
     "execution_count": 4,
     "metadata": {},
     "output_type": "execute_result"
    }
   ],
   "source": [
    "''' Problem 6 : Given an array of n elements . Find three elements such that their sum is equal to the given number. '''\n",
    "\n",
    "## Code :-\n",
    "\n",
    "def Sum_equal_k(arr, x):\n",
    "    \n",
    "    Sum = 0\n",
    "    \n",
    "    for i in range(len(arr)):\n",
    "        \n",
    "        for j in range(len(arr)):\n",
    "            \n",
    "            for k in range(len(arr)):\n",
    "                \n",
    "                Sum = arr[i] + arr[j] + arr[k]\n",
    "                \n",
    "                if(Sum == x):\n",
    "                    return arr[i], arr[j], arr[k]\n",
    "                \n",
    "    return -1\n",
    "\n",
    "## Driver's Program\n",
    "\n",
    "k = 12\n",
    "\n",
    "arr = [1,2,3,4,6,5]\n",
    "\n",
    "Sum_equal_k(arr,k)"
   ]
  },
  {
   "cell_type": "code",
   "execution_count": 1,
   "id": "a022ae93-ef1f-429f-b753-6c778236e07f",
   "metadata": {},
   "outputs": [
    {
     "name": "stdout",
     "output_type": "stream",
     "text": [
      "(3, 4, 5)\n"
     ]
    }
   ],
   "source": [
    "''' Problem 7 : Given an array of n elements . Find three elements i, j, k in the array such that i * i + j * j = k*k. '''\n",
    "\n",
    "## Code :-\n",
    "\n",
    "def find_three_elements_with_sum(nums, target_sum):\n",
    "    nums.sort()  # Sort the array in ascending order\n",
    "\n",
    "    n = len(nums)\n",
    "\n",
    "    for i in range(n - 2):\n",
    "        left, right = i + 1, n - 1\n",
    "\n",
    "        while left < right:\n",
    "            current_sum = nums[i] + nums[left] + nums[right]\n",
    "\n",
    "            if current_sum == target_sum:\n",
    "                return [nums[i], nums[left], nums[right]]\n",
    "            elif current_sum < target_sum:\n",
    "                left += 1\n",
    "            else:\n",
    "                right -= 1\n",
    "\n",
    "    # If no such triplet is found\n",
    "    return []\n",
    "\n",
    "# Example usage:\n",
    "nums = [1, 4, 2, 8, 3, 7, 9]\n",
    "target_sum = 10\n",
    "result = find_three_elements_with_sum(nums, target_sum)\n",
    "\n",
    "if result:\n",
    "    print(\"Triplet with the given sum:\", result)\n",
    "else:\n",
    "    print(\"No triplet found with the given sum.\")"
   ]
  },
  {
   "cell_type": "code",
   "execution_count": 21,
   "id": "e160490c-e492-4731-af7f-f294df150d61",
   "metadata": {},
   "outputs": [
    {
     "name": "stdout",
     "output_type": "stream",
     "text": [
      "6\n"
     ]
    }
   ],
   "source": [
    "''' Problem 8 : An element is a majority if it appears more than n/2 times. Give an algorithm takes an array of n \n",
    "element's as argument and identifies a majority (if it exists). '''\n",
    "\n",
    "## Code:-\n",
    "\n",
    "def find_majority_element(arr):\n",
    "    \n",
    "    candidate = None\n",
    "    \n",
    "    count = 0\n",
    "    \n",
    "    for num in arr:\n",
    "        \n",
    "        if count == 0:\n",
    "            candidate = num\n",
    "        \n",
    "        count += 1 if num == candidate else -1\n",
    "        \n",
    "        \n",
    "    count = arr.count(candidate)\n",
    "        \n",
    "    if count > len(arr)//2:\n",
    "         return candidate\n",
    "        \n",
    "    else:\n",
    "        return None\n",
    "        \n",
    "\n",
    "## Driver's Program\n",
    "\n",
    "arr = [1,1,1,1,10,5,1,6,1,1,6,6,6,6,6,6,6,6,6,6,6,6,6,6,6,6]\n",
    "\n",
    "print(find_majority_element(arr))"
   ]
  },
  {
   "cell_type": "code",
   "execution_count": 9,
   "id": "dad79389-10a9-4c78-9761-a277250e4ce3",
   "metadata": {},
   "outputs": [
    {
     "name": "stdout",
     "output_type": "stream",
     "text": [
      "2\n"
     ]
    }
   ],
   "source": [
    "''' Problem 9 : Given n × n matrix, and in each row all 1’s are followed by 0’s. Find the row with the maximum \n",
    "number of 0’s. '''\n",
    "\n",
    "## Code:-\n",
    "\n",
    "def find_maximum_zeros(matrix):\n",
    "    \n",
    "    maximum_zeros = 0\n",
    "    \n",
    "    for i in range(len(matrix)):\n",
    "        \n",
    "        zeros_count = 0\n",
    "        \n",
    "        for j in range(len(matrix[i])):\n",
    "            \n",
    "            if matrix[i][j] == 0:\n",
    "                zeros_count += 1\n",
    "                \n",
    "                \n",
    "        if(zeros_count > maximum_zeros):\n",
    "            maximum_zeros = zeros_count\n",
    "            \n",
    "    return maximum_zeros\n",
    "\n",
    "\n",
    "## Drivers Program\n",
    "\n",
    "matrix = [[1,0,1], [0,0,1], [1,1,0]]\n",
    "\n",
    "print(find_maximum_zeros(matrix))"
   ]
  },
  {
   "cell_type": "code",
   "execution_count": 11,
   "id": "25afa892-b6d3-4f3e-8d59-3b80a99cdb9e",
   "metadata": {},
   "outputs": [
    {
     "name": "stdout",
     "output_type": "stream",
     "text": [
      "[0, 0, 0, 0, 0, 1, 1, 1, 1, 1, 2, 2]\n"
     ]
    }
   ],
   "source": [
    "''' Problem 10 : Sort an array of 0’s, 1’s and 2’s [or R’s, G’s and B’s]: Given an array A[] consisting of 0’s, 1’s and \n",
    "2’s, give an algorithm for sorting A[].The algorithm should put all 0’s first, then all 1’s and finally all 2’s at the \n",
    "end. Example Input = {0,1,1,0,1,2,1,2,0,0,0,1}, Output = {0,0,0,0,0,1,1,1,1,1,2,2} '''\n",
    "\n",
    "## Code:-\n",
    "\n",
    "def sort_0s_1s_2s(arr):\n",
    "    \n",
    "    low, mid, high = 0, 0, len(arr)-1\n",
    "    \n",
    "    while(mid <= high):\n",
    "        \n",
    "        if arr[mid] == 0:\n",
    "            arr[low], arr[mid] = arr[mid], arr[low]\n",
    "            low += 1\n",
    "            mid += 1\n",
    "        \n",
    "        elif arr[mid] == 1:\n",
    "            mid += 1\n",
    "            \n",
    "        elif arr[mid] == 2:\n",
    "            arr[mid], arr[high] = arr[high], arr[mid]\n",
    "            high -= 1\n",
    "            \n",
    "\n",
    "## Driver's Program\n",
    "\n",
    "arr = [0,1,1,0,1,2,1,2,0,0,0,1]\n",
    "\n",
    "sort_0s_1s_2s(arr)\n",
    "\n",
    "print(arr)"
   ]
  }
 ],
 "metadata": {
  "kernelspec": {
   "display_name": "Python 3 (ipykernel)",
   "language": "python",
   "name": "python3"
  },
  "language_info": {
   "codemirror_mode": {
    "name": "ipython",
    "version": 3
   },
   "file_extension": ".py",
   "mimetype": "text/x-python",
   "name": "python",
   "nbconvert_exporter": "python",
   "pygments_lexer": "ipython3",
   "version": "3.10.8"
  }
 },
 "nbformat": 4,
 "nbformat_minor": 5
}
